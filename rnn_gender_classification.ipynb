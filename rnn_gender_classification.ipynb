{
  "nbformat": 4,
  "nbformat_minor": 0,
  "metadata": {
    "colab": {
      "name": "rnn-gender-classification.ipynb",
      "provenance": [],
      "collapsed_sections": [],
      "mount_file_id": "15Rxi-alnJiCTMU9r7IMGvBBsHwDAOIj0",
      "authorship_tag": "ABX9TyNbmOk+Z36lW9hL9kaf4e8g"
    },
    "kernelspec": {
      "name": "python3",
      "display_name": "Python 3"
    },
    "language_info": {
      "name": "python"
    },
    "accelerator": "GPU",
    "gpuClass": "standard"
  },
  "cells": [
    {
      "cell_type": "markdown",
      "source": [
        "**Recurrent Neural Network (RNN)**  \n",
        "* 구조 : 입력층 - 은닉층*n - 출력층\n",
        "* 새로운 입력 + 기존 정보 누적 = 새롭게 *누적*"
      ],
      "metadata": {
        "id": "undPP6s_DDF8"
      }
    },
    {
      "cell_type": "markdown",
      "source": [
        "**음성 데이터 학습을 통한 성별 분류 모델 만들기**  \n",
        "- 이진 분류 모델 (binary classifier)\n",
        "- Pitch : 성별 분류로 잘 알려진 음향 특징  \n",
        "\n",
        "\n",
        "AIHub  \n",
        "한국어 대화체 데이터 : https://aihub.or.kr/aihub-data/natural-language/about\n",
        "  \n",
        "        \n",
        "* 데이터 분포\n",
        "Train : 남성, 여성 발화 샘플 각 9개\n",
        "Test : 남성, 여성 발화 샘플 각 1개 (Train의 화자와 겹치지 않음)  \n",
        "모든 샘플은 128 프레임의 (약 1.2초) 길이의 음성\n",
        "* 음성 형식 변환  \n",
        "채널 수: 1 (mono)  \n",
        "샘플 수 : 8KHz  \n",
        "Peak Scailing: 0.99 # 소리가 작은 상태인 것 키움  \n",
        "* 음성 데이터  \n",
        "AUDIO_DATA_33.zip 참고  \n",
        "\n",
        "\n",
        "음향 특징 추출\n",
        "* Pitch (F0, 기본주파수)  \n",
        "성별과 관련된 음향 특징  \n",
        "음성(목소리)의 높낮이: 대체로 여성 > 남성    \n",
        "\n",
        "* Python의 음향 특징 추출 라이브러리 사용  \n",
        "프레임별 Pitch 값 추출 !!  -> *시간에 따른 정보의 변화를 학습*  \n",
        "음성 구간 전체의 Pitch 값의 평균 및 편차 계산 (통계치 측정)  "
      ],
      "metadata": {
        "id": "gi3qRmgFD9MC"
      }
    },
    {
      "cell_type": "markdown",
      "source": [
        "음향 특징 형태\n",
        "* 음향 특징 차원 수: 1 (개별 F0 값)\n",
        "* 음향 특징의 길이: 128  \n",
        "![image.png](data:image/png;base64,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)"
      ],
      "metadata": {
        "id": "2mpgtOSbFRso"
      }
    },
    {
      "cell_type": "code",
      "source": [
        "!unzip -n \"/content/drive/MyDrive/aiotmooc/음성 18차시.zip\""
      ],
      "metadata": {
        "colab": {
          "base_uri": "https://localhost:8080/"
        },
        "id": "upomIpQtFr8z",
        "outputId": "7f0485c5-38be-4c4e-e03d-5afaab4d177c"
      },
      "execution_count": null,
      "outputs": [
        {
          "output_type": "stream",
          "name": "stdout",
          "text": [
            "Archive:  /content/drive/MyDrive/aiotmooc/음성 18차시.zip\n",
            "  inflating: F001.txt                \n",
            "  inflating: F002.txt                \n",
            "  inflating: F003.txt                \n",
            "  inflating: F004.txt                \n",
            "  inflating: F005.txt                \n",
            "  inflating: F006.txt                \n",
            "  inflating: F007.txt                \n",
            "  inflating: F008.txt                \n",
            "  inflating: F009.txt                \n",
            "  inflating: F010.txt                \n",
            "  inflating: M001.txt                \n",
            "  inflating: M002.txt                \n",
            "  inflating: M003.txt                \n",
            "  inflating: M004.txt                \n",
            "  inflating: M005.txt                \n",
            "  inflating: M006.txt                \n",
            "  inflating: M007.txt                \n",
            "  inflating: M008.txt                \n",
            "  inflating: M009.txt                \n",
            "  inflating: M010.txt                \n"
          ]
        }
      ]
    },
    {
      "cell_type": "code",
      "execution_count": null,
      "metadata": {
        "colab": {
          "base_uri": "https://localhost:8080/"
        },
        "id": "uAPjhlqrCALi",
        "outputId": "06e53fae-09de-4fbb-f88b-fcfa67091020"
      },
      "outputs": [
        {
          "output_type": "stream",
          "name": "stdout",
          "text": [
            "233.56435471406135\n",
            "224.17741145346497\n",
            "220.9395370818937\n",
            "220.5415163396928\n",
            "220.99345945194966\n",
            "222.2437112007177\n",
            "223.43875465126226\n",
            "224.61735854903347\n",
            "225.92817473748\n",
            "226.42088775375532\n",
            "227.1764761537766\n",
            "227.695936429377\n",
            "227.68498960941707\n",
            "228.04343519941386\n",
            "228.36099299693933\n",
            "228.66175981323389\n",
            "228.16704861211798\n",
            "227.72110021834624\n",
            "226.88285502935284\n",
            "226.29760686851756\n",
            "224.539261445789\n",
            "222.6527040798723\n",
            "219.113848395585\n",
            "0\n",
            "0\n",
            "0\n",
            "0\n",
            "0\n",
            "0\n",
            "0\n",
            "0\n",
            "0\n",
            "0\n",
            "0\n",
            "0\n",
            "232.53096666603338\n",
            "223.26845679579233\n",
            "217.01905436745508\n",
            "213.45306298453824\n",
            "210.4845467970748\n",
            "205.96499976106722\n",
            "198.58955613494612\n",
            "0\n",
            "0\n",
            "0\n",
            "0\n",
            "0\n",
            "0\n",
            "217.0562343368778\n",
            "214.44011330515556\n",
            "213.46777685454086\n",
            "213.39486420182655\n",
            "213.52763909782618\n",
            "212.56679423052594\n",
            "209.61681243290744\n",
            "203.69178276628656\n",
            "0\n",
            "0\n",
            "0\n",
            "0\n",
            "0\n",
            "0\n",
            "0\n",
            "231.337730893545\n",
            "216.3257173981473\n",
            "213.28291798732036\n",
            "211.64820863281417\n",
            "210.64491366877783\n",
            "210.30363615959538\n",
            "210.80791032288826\n",
            "211.42201749863457\n",
            "211.7058042006231\n",
            "211.60855905151467\n",
            "211.6791614978657\n",
            "210.8693174350508\n",
            "209.00585524684024\n",
            "208.50284541203908\n",
            "209.951423789826\n",
            "208.39502341698287\n",
            "207.02071035939508\n",
            "205.82139244301848\n",
            "205.19406751742892\n",
            "204.60332032071048\n",
            "204.72865551976366\n",
            "204.24202566590566\n",
            "203.42375772939087\n",
            "202.53714272468363\n",
            "201.4311536894957\n",
            "200.41388049109347\n",
            "198.4920744648495\n",
            "197.51847646807022\n",
            "195.7016184109855\n",
            "194.6325019386699\n",
            "0\n",
            "0\n",
            "0\n",
            "0\n",
            "0\n",
            "284.8880004913853\n",
            "281.4841983950969\n",
            "282.3937092958413\n",
            "284.8176437511242\n",
            "285.9284459403355\n",
            "285.50831709481315\n",
            "282.6904095883631\n",
            "277.43783509118396\n",
            "271.33950440740017\n",
            "263.2629657884427\n",
            "253.76314250256584\n",
            "241.82448897797025\n",
            "235.2826001343578\n",
            "228.23141126282275\n",
            "217.1261687163527\n",
            "210.60413283905112\n",
            "205.9286539247615\n",
            "203.9138665542757\n",
            "203.93411388117917\n",
            "203.71606241029235\n",
            "204.07456461958245\n",
            "204.63732534439387\n",
            "205.87997930623135\n",
            "207.97988677441913\n",
            "209.77169965593558\n",
            "212.43099469236537\n",
            "214.90803756935742\n",
            "217.21182460069647\n",
            "220.32848255349603\n",
            "223.31913786861793\n"
          ]
        }
      ],
      "source": [
        " # 샘플 데이터 구조 확인\n",
        " fname = \"F001.txt\"\n",
        "\n",
        " for line in open(fname, 'r').readlines():\n",
        "   line = line.strip()\n",
        "   print(line) # 128 줄로 이루어져 있는 F0의 값들, 0: undifined (묵음 구간)"
      ]
    },
    {
      "cell_type": "code",
      "source": [
        "# 위와 같이 레이블이 없고 txt 형태인 데이터 숫자 형태로 변환\n",
        "data = []\n",
        "\n",
        "for line in open(fname, 'r').readlines():\n",
        "  line = line.strip()\n",
        "  line = float(line)\n",
        "  data.append(line)\n",
        "\n",
        "if 'F' in fname: # Femail 1\n",
        "  lab = 1\n",
        "  print(lab, data) # 이 결과가 화자 1명에 대한 RNN 입력 및 레이블 값"
      ],
      "metadata": {
        "colab": {
          "base_uri": "https://localhost:8080/"
        },
        "id": "UaUwT8m5GJZ6",
        "outputId": "b9541610-1a10-4bfc-d0f5-960c487daed1"
      },
      "execution_count": null,
      "outputs": [
        {
          "output_type": "stream",
          "name": "stdout",
          "text": [
            "1 [233.56435471406135, 224.17741145346497, 220.9395370818937, 220.5415163396928, 220.99345945194966, 222.2437112007177, 223.43875465126226, 224.61735854903347, 225.92817473748, 226.42088775375532, 227.1764761537766, 227.695936429377, 227.68498960941707, 228.04343519941386, 228.36099299693933, 228.66175981323389, 228.16704861211798, 227.72110021834624, 226.88285502935284, 226.29760686851756, 224.539261445789, 222.6527040798723, 219.113848395585, 0.0, 0.0, 0.0, 0.0, 0.0, 0.0, 0.0, 0.0, 0.0, 0.0, 0.0, 0.0, 232.53096666603338, 223.26845679579233, 217.01905436745508, 213.45306298453824, 210.4845467970748, 205.96499976106722, 198.58955613494612, 0.0, 0.0, 0.0, 0.0, 0.0, 0.0, 217.0562343368778, 214.44011330515556, 213.46777685454086, 213.39486420182655, 213.52763909782618, 212.56679423052594, 209.61681243290744, 203.69178276628656, 0.0, 0.0, 0.0, 0.0, 0.0, 0.0, 0.0, 231.337730893545, 216.3257173981473, 213.28291798732036, 211.64820863281417, 210.64491366877783, 210.30363615959538, 210.80791032288826, 211.42201749863457, 211.7058042006231, 211.60855905151467, 211.6791614978657, 210.8693174350508, 209.00585524684024, 208.50284541203908, 209.951423789826, 208.39502341698287, 207.02071035939508, 205.82139244301848, 205.19406751742892, 204.60332032071048, 204.72865551976366, 204.24202566590566, 203.42375772939087, 202.53714272468363, 201.4311536894957, 200.41388049109347, 198.4920744648495, 197.51847646807022, 195.7016184109855, 194.6325019386699, 0.0, 0.0, 0.0, 0.0, 0.0, 284.8880004913853, 281.4841983950969, 282.3937092958413, 284.8176437511242, 285.9284459403355, 285.50831709481315, 282.6904095883631, 277.43783509118396, 271.33950440740017, 263.2629657884427, 253.76314250256584, 241.82448897797025, 235.2826001343578, 228.23141126282275, 217.1261687163527, 210.60413283905112, 205.9286539247615, 203.9138665542757, 203.93411388117917, 203.71606241029235, 204.07456461958245, 204.63732534439387, 205.87997930623135, 207.97988677441913, 209.77169965593558, 212.43099469236537, 214.90803756935742, 217.21182460069647, 220.32848255349603, 223.31913786861793]\n"
          ]
        }
      ]
    },
    {
      "cell_type": "code",
      "source": [
        "# 여러 파일에 대해\n",
        "import numpy as np\n",
        "import glob\n",
        "\n",
        "total_train = []\n",
        "total_test = []\n",
        "data = []\n",
        "\n",
        "for f in glob.glob('./*.txt'): # 주로 데이터들을 불러오거나 정규식을 통해 공통 범위 내에 있는 것들을 가져오는 식 - list로 반환\n",
        "  for line in open(f, 'r').readlines():\n",
        "    line = line.strip()\n",
        "    line = float(line)\n",
        "    data.append(line)\n",
        "\n",
        "  # list -> np : pytorch tensor랑 np가 밀접한 관계, 나중에 입력을 할 때 맞게끔 하기 위해 (list에서 pytorch tensor로 넘겨도 상관은 없음)\n",
        "  data = np.array(data) # (128, )\n",
        "  data = data.reshape((-1, 1)) # (128, ) -> (128, 1)\n",
        "\n",
        "  if 'F' in f:\n",
        "    lab = 1\n",
        "  else:\n",
        "    lab = 0\n",
        "\n",
        "  if '001' in f:\n",
        "    total_test.append([data, lab])\n",
        "  else:\n",
        "    total_train.append([data, lab])\n",
        "\n",
        "  data = [] # 초기화"
      ],
      "metadata": {
        "id": "tYm9s_SVH3ds"
      },
      "execution_count": null,
      "outputs": []
    },
    {
      "cell_type": "code",
      "source": [
        "import torch\n",
        "import torch.nn as nn\n",
        "import torch.nn.functional as F\n",
        "import torch.optim as optim\n",
        "from torch.autograd import Variable\n",
        "from torch.nn.init import kaiming_uniform_"
      ],
      "metadata": {
        "id": "4drHtdsdKcWy"
      },
      "execution_count": null,
      "outputs": []
    },
    {
      "cell_type": "code",
      "source": [
        "# RNN\n",
        "class RNN(nn.Module):\n",
        "\n",
        "  # 초기화 함수\n",
        "  # 모델을 변수로 선언할 때 들어갈 인자들을 넣은 것\n",
        "  def __init__(self, input_size, hidden_size, batch_first=True):\n",
        "    super(RNN, self).__init__()\n",
        "    self.hidden_size = hidden_size\n",
        "    \n",
        "    self.rnn = nn.RNN(input_size, hidden_size)\n",
        "    self.fc1 = nn.Linear(hidden_size, hidden_size)\n",
        "    kaiming_uniform_(self.fc1.weight, nonlinearity='relu') # weight 값 초기화\n",
        "    self.fc2 = nn.Linear(hidden_size, 1)\n",
        "\n",
        "  def forward(self, x):\n",
        "\n",
        "    # self.rnn()의 output : x 와 time_step 마지막 hidden cell. 이 형태에 맞추지 않으면 error\n",
        "    x, h_n = self.rnn(x) # input -> hidden\n",
        "    x = F.relu(x)\n",
        "\n",
        "    # 3D -> 2D (time_step 제거)\n",
        "    x = x[:, -1, :] # rnn -> linear (linear : batch, input dimension의 2차원)\n",
        "\n",
        "    x = self.fc1(x) # hidden -> hidden\n",
        "    x = F.relu(x)\n",
        "\n",
        "    x = self.fc2(x) # hidden -> 1 (output)\n",
        "\n",
        "    return x"
      ],
      "metadata": {
        "id": "NO1CGOheKf-w"
      },
      "execution_count": null,
      "outputs": []
    },
    {
      "cell_type": "markdown",
      "source": [
        "RNN 기본 형태 : time_step(sequence), batch_size, input_dimension(input feature) 순서의 3D Tensor  \n",
        "batch_size, time_step(sequence), input_dim(input feature) 의 순서가 더 직관적  \n",
        "-> 일반적으로 이렇게 많이 사용하므로 'batch_first=True' 써 줌  \n",
        " <br/>\n",
        "hidden에서 output이 하나인 이유: criterion에 있는 BCE with LogitsLoss (sigmoid를 효율적으로 계산)"
      ],
      "metadata": {
        "id": "fMJ1YCWyLp9l"
      }
    },
    {
      "cell_type": "code",
      "source": [
        "# training\n",
        "torch.manual_seed(777)\n",
        "\n",
        "model = RNN(input_size=1, hidden_size=32)\n",
        "model.cuda() # ***GPU에 모델 올리기\n",
        "\n",
        "criterion = nn.BCEWithLogitsLoss() # binary classification\n",
        "optimizer = torch.optim.Adam(model.parameters(), lr=0.001) # lr: 특히 데이터가 적을 경우 조정 필요 (하이퍼 파라미터)\n",
        "\n",
        "# gradient update(parameter) 준비\n",
        "model.train() \n",
        "\n",
        "# dataset 크기, 'lr' 고려\n",
        "epochs = 100\n",
        "\n",
        "for epoch in range(epochs):\n",
        "  for x, y in total_train: # (음향 특징)input, label \n",
        "    x = torch.FloatTensor(np.array(x)).unsqueeze(0).cuda() # (128, 1) np array -> (1, 128, 1) 3d tensor /이 형태(batch_size, time_step, line별 data)로 모델에 넣어야 함 \n",
        "    y = torch.FloatTensor([y]).unsqueeze(0).cuda()\n",
        "\n",
        "    # gradient 초기화 (iteration 돌 때마다)\n",
        "    optimizer.zero_grad()\n",
        "\n",
        "    output = model(x)\n",
        "\n",
        "    loss = criterion(output, y) # 예측값, 정답값 간의 오차\n",
        "\n",
        "    loss.backward() # backpropagation : 오차가 어디서 영향을 받은건지 역추적\n",
        "\n",
        "    optimizer.step() # 역추적 결과로 파라미터 조절하는 단계 - 다음 단계 준비\n",
        "    # 여기 까지가 하나의 학습 (전체 데이터를 한 번 다 훑음)\n",
        "\n",
        "  print(\"Epoch: {}: {}\".format(epoch+1, loss.item()))"
      ],
      "metadata": {
        "colab": {
          "base_uri": "https://localhost:8080/"
        },
        "id": "0dboUz9pMH5Z",
        "outputId": "2c58921b-2fbd-4b63-d84a-498421c47e10"
      },
      "execution_count": null,
      "outputs": [
        {
          "output_type": "stream",
          "name": "stdout",
          "text": [
            "Epoch: 1: 0.3392053544521332\n",
            "Epoch: 2: 0.41921550035476685\n",
            "Epoch: 3: 0.49191033840179443\n",
            "Epoch: 4: 0.5485775470733643\n",
            "Epoch: 5: 0.5810955762863159\n",
            "Epoch: 6: 0.6194297671318054\n",
            "Epoch: 7: 0.6484469771385193\n",
            "Epoch: 8: 0.6741948127746582\n",
            "Epoch: 9: 0.6924833059310913\n",
            "Epoch: 10: 0.7066924571990967\n",
            "Epoch: 11: 0.7178492546081543\n",
            "Epoch: 12: 0.7077869772911072\n",
            "Epoch: 13: 0.7298351526260376\n",
            "Epoch: 14: 0.7178735733032227\n",
            "Epoch: 15: 0.7352141737937927\n",
            "Epoch: 16: 0.7233646512031555\n",
            "Epoch: 17: 0.7366892099380493\n",
            "Epoch: 18: 0.724116861820221\n",
            "Epoch: 19: 0.7351126670837402\n",
            "Epoch: 20: 0.7263970375061035\n",
            "Epoch: 21: 0.7282097339630127\n",
            "Epoch: 22: 0.7244938611984253\n",
            "Epoch: 23: 0.7263229489326477\n",
            "Epoch: 24: 0.719071626663208\n",
            "Epoch: 25: 0.7222757339477539\n",
            "Epoch: 26: 0.7109030485153198\n",
            "Epoch: 27: 0.7165743112564087\n",
            "Epoch: 28: 0.700617253780365\n",
            "Epoch: 29: 0.7098929286003113\n",
            "Epoch: 30: 0.6947121620178223\n",
            "Epoch: 31: 0.7053700089454651\n",
            "Epoch: 32: 0.6780894994735718\n",
            "Epoch: 33: 0.6959022879600525\n",
            "Epoch: 34: 0.669806182384491\n",
            "Epoch: 35: 0.6845946311950684\n",
            "Epoch: 36: 0.662897527217865\n",
            "Epoch: 37: 0.6725056171417236\n",
            "Epoch: 38: 0.648953914642334\n",
            "Epoch: 39: 0.6611334085464478\n",
            "Epoch: 40: 0.6351284980773926\n",
            "Epoch: 41: 0.6612699031829834\n",
            "Epoch: 42: 0.6124250292778015\n",
            "Epoch: 43: 0.6518428325653076\n",
            "Epoch: 44: 0.5947269797325134\n",
            "Epoch: 45: 0.6406320929527283\n",
            "Epoch: 46: 0.5773036479949951\n",
            "Epoch: 47: 0.6255950927734375\n",
            "Epoch: 48: 0.5634351968765259\n",
            "Epoch: 49: 0.6082013249397278\n",
            "Epoch: 50: 0.5477346181869507\n",
            "Epoch: 51: 0.5895206332206726\n",
            "Epoch: 52: 0.5328431725502014\n",
            "Epoch: 53: 0.5694328546524048\n",
            "Epoch: 54: 0.5181570053100586\n",
            "Epoch: 55: 0.548271894454956\n",
            "Epoch: 56: 0.5157089233398438\n",
            "Epoch: 57: 0.521459698677063\n",
            "Epoch: 58: 0.5000168681144714\n",
            "Epoch: 59: 0.49796921014785767\n",
            "Epoch: 60: 0.4841827154159546\n",
            "Epoch: 61: 0.47701531648635864\n",
            "Epoch: 62: 0.4656713604927063\n",
            "Epoch: 63: 0.46652060747146606\n",
            "Epoch: 64: 0.44113999605178833\n",
            "Epoch: 65: 0.45002248883247375\n",
            "Epoch: 66: 0.4218437671661377\n",
            "Epoch: 67: 0.4292362928390503\n",
            "Epoch: 68: 0.40425917506217957\n",
            "Epoch: 69: 0.4074813723564148\n",
            "Epoch: 70: 0.3867957890033722\n",
            "Epoch: 71: 0.3876458704471588\n",
            "Epoch: 72: 0.3712782859802246\n",
            "Epoch: 73: 0.3679112493991852\n",
            "Epoch: 74: 0.35657998919487\n",
            "Epoch: 75: 0.34928128123283386\n",
            "Epoch: 76: 0.3451135456562042\n",
            "Epoch: 77: 0.33108195662498474\n",
            "Epoch: 78: 0.3246851861476898\n",
            "Epoch: 79: 0.31381750106811523\n",
            "Epoch: 80: 0.30908992886543274\n",
            "Epoch: 81: 0.3039439022541046\n",
            "Epoch: 82: 0.2924620509147644\n",
            "Epoch: 83: 0.289131760597229\n",
            "Epoch: 84: 0.2791244685649872\n",
            "Epoch: 85: 0.27464526891708374\n",
            "Epoch: 86: 0.2657727599143982\n",
            "Epoch: 87: 0.26165771484375\n",
            "Epoch: 88: 0.2530999779701233\n",
            "Epoch: 89: 0.2494504302740097\n",
            "Epoch: 90: 0.24130599200725555\n",
            "Epoch: 91: 0.2377786934375763\n",
            "Epoch: 92: 0.2305476814508438\n",
            "Epoch: 93: 0.2271205633878708\n",
            "Epoch: 94: 0.2199806571006775\n",
            "Epoch: 95: 0.21692489087581635\n",
            "Epoch: 96: 0.2106020450592041\n",
            "Epoch: 97: 0.20774468779563904\n",
            "Epoch: 98: 0.2076740860939026\n",
            "Epoch: 99: 0.195719376206398\n",
            "Epoch: 100: 0.19668205082416534\n"
          ]
        }
      ]
    },
    {
      "cell_type": "code",
      "source": [
        "# 평가(학습 X) : gradient 업데이트 안함\n",
        "model.eval()\n",
        "\n",
        "with torch.no_grad():\n",
        "  for x, y in total_test:\n",
        "    print(\"Label:\", y)\n",
        "    x = torch.FloatTensor(x).unsqueeze(0)\n",
        "    x = Variable(x, requires_grad=False).cuda()\n",
        "    # Variable: 없어도 큰 차이는 없는데, pytorch에서 만든 기능이기 때문에 안정면에서 써 줌\n",
        "    # .cuda() : 꼭 써줘야 함. GPU에 데이터 로드\n",
        "\n",
        "    y = torch.FloatTensor([y]).unsqueeze(0)\n",
        "    y = Variable(y).cuda()\n",
        "    \n",
        "    output = model(x)\n",
        "\n",
        "    loss = criterion(output, y)\n",
        "    print(\"Loss:\", loss, \"\\n\")\n",
        "    print(\"Output:\", output, \"\\n\") # score\n",
        "\n",
        "    score = output[0][0]\n",
        "    if score >= 0:\n",
        "      pred_lab = \"Female\"\n",
        "    else:\n",
        "      pred_lab = \"Male\"\n",
        "\n",
        "    print(\"Prediction:\", pred_lab, \"\\n\")\n",
        "    print(\"-\"*10)    "
      ],
      "metadata": {
        "colab": {
          "base_uri": "https://localhost:8080/"
        },
        "id": "32znJjZLQ1K6",
        "outputId": "9366d64d-78d4-4ff0-837e-5b96526a475f"
      },
      "execution_count": null,
      "outputs": [
        {
          "output_type": "stream",
          "name": "stdout",
          "text": [
            "Label: 1\n",
            "Loss: tensor(0.3437, device='cuda:0') \n",
            "\n",
            "Output: tensor([[0.8912]], device='cuda:0') \n",
            "\n",
            "Prediction: Female \n",
            "\n",
            "----------\n",
            "Label: 0\n",
            "Loss: tensor(0.2174, device='cuda:0') \n",
            "\n",
            "Output: tensor([[-1.4154]], device='cuda:0') \n",
            "\n",
            "Prediction: Male \n",
            "\n",
            "----------\n"
          ]
        }
      ]
    },
    {
      "cell_type": "markdown",
      "source": [
        "0.8912 : 그래도 여성에 가까움  \n",
        "-1.4154 : 확실히 남성에 가까움"
      ],
      "metadata": {
        "id": "91zCItSlTAjR"
      }
    }
  ]
}